{
 "cells": [
  {
   "cell_type": "markdown",
   "metadata": {},
   "source": [
    "# Git Reflections"
   ]
  },
  {
   "cell_type": "markdown",
   "metadata": {},
   "source": [
    "## Reflection #1\n",
    "__Q.__ How did viewing a difference between two version help you spot the bug?\n",
    "\n",
    "__Ans.__\n",
    "- Viewing only the change in two versions made it easier to spot THE BUG.\n",
    "- Instead of starting to understand what each and every line of the code does; with the glimpses at only the line/s changed, we can create a crude idea on what a particular line/s do/es. We can also create a more solid working idea of the line by looking at the lines above and below the changed line/s.\n",
    "- Last, but-not-the-least, this process of viewing difference between two versions saves a lot a time."
   ]
  },
  {
   "cell_type": "markdown",
   "metadata": {},
   "source": [
    "## Reflection #2\n",
    "\n",
    "__Q.__ How could having easy access to the entire history of a file make you a more efficient programmer in the long term?\n",
    "\n",
    "__Ans.__\n",
    "- GoogleDocs; Wikipedia; Dropbox are some examples which use version control.\n",
    "- Having access to the entire history of a file makes it easier to correct our coding practises. It is generally for the implementation of an advanced idea that we update or edit a file. Comments at every new implementation (bugged or perfectly working) will give us an idea on which concept work and in a better way. \n",
    "- Comments at every new implementations will also create a small timeline of our advancements in the work. This timeline is futher very helpful while wrapping up the project or writing a report on the work carried out."
   ]
  },
  {
   "cell_type": "markdown",
   "metadata": {},
   "source": [
    "## Reflection #3 \n",
    "\n",
    "__Q.__ What do you think are the pros and cons of manually choosing when to create a commit, like you do in Git, vs having version automatically saved, like Google docs does?\n",
    "\n",
    "__Ans.__\n",
    "- Manual commits are more human accessible. It helps not only the programmer, but also the persons who would like to work on the code in the future. Such commits are not too large and not too small. Creates a very nice timeline of the project.\n",
    "\n",
    "- Automatic commits creates a comprehensive history. It would be hard to find a specific addition/substraction in the project. Due to large no. of commits, there is a limitation to the history that can be stored.\n",
    "  \n"
   ]
  },
  {
   "cell_type": "markdown",
   "metadata": {},
   "source": [
    "## Reflection #4\n",
    "\n",
    "__Q.__ Why do you think some verison control systems, like Git, allow saving multiple files in one commit, while others, like Google Docs, treat each file seperately?\n",
    "\n",
    "__Ans.__\n",
    "- Saving multiple files is a way to keep track of the whole project. This is done successfully by Git. This also helps track the inter-dependencies of different files.\n",
    "\n",
    "- In GoogleDocs, single files are comprehensively tracked and no interdependencies of files are accounted. \n"
   ]
  },
  {
   "cell_type": "markdown",
   "metadata": {},
   "source": [
    "## Reflection #5. \n",
    "\n",
    "__Q.__ How can you use the commands git log and git diff to view the history of files?\n",
    "\n",
    "__Ans.__\n",
    "- \"git log\" displays information of all the commits made.; Each commit will have AuthorsID, Date and Time of commit and commitID itself.\n",
    "\n",
    "- \"git diff ID1 ID2\", like the diff file1 file2, informs the user about the changes in the two files. Only the changes in the two commits with ID1 and ID2 are highlighted with '+' showing lines/code added and '-' showing lines/code deleted in the commit ID1 with reference to commit ID2. "
   ]
  },
  {
   "cell_type": "markdown",
   "metadata": {},
   "source": [
    "## Reflection #6\n",
    "\n",
    "__Q.__ How might using version control make you more confident to make changes that could break something?\n",
    "\n",
    "__Ans.__\n",
    "- Having versions of the changing file will help us try new things to complete the project. \n",
    "\n",
    "- If something goes wrong, the help from Git versions will always guide us to find the working version of the project.\n",
    "\n",
    "- Bigger projects with more and more changes will be easy-peasy to track with Git."
   ]
  },
  {
   "cell_type": "markdown",
   "metadata": {},
   "source": [
    "## Reflection #7\n",
    "\n",
    "__Q.__ Now that you have your workspace set up, what do you want to try using Git for?\n",
    "\n",
    "__Ans.__\n",
    "- I am revisiting a programming project (CUDA- GPU programming for TRIDIS). Using Git as learnt would improve my chances of having a workable program at any point of time. \n"
   ]
  },
  {
   "cell_type": "code",
   "execution_count": null,
   "metadata": {},
   "outputs": [],
   "source": []
  }
 ],
 "metadata": {
  "kernelspec": {
   "display_name": "Python 3",
   "language": "python",
   "name": "python3"
  },
  "language_info": {
   "codemirror_mode": {
    "name": "ipython",
    "version": 3
   },
   "file_extension": ".py",
   "mimetype": "text/x-python",
   "name": "python",
   "nbconvert_exporter": "python",
   "pygments_lexer": "ipython3",
   "version": "3.6.7"
  }
 },
 "nbformat": 4,
 "nbformat_minor": 2
}
